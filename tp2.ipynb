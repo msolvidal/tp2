{
 "cells": [
  {
   "cell_type": "markdown",
   "metadata": {},
   "source": [
    "# Trabajo Computacional 2"
   ]
  },
  {
   "cell_type": "code",
   "execution_count": 1,
   "metadata": {
    "collapsed": true
   },
   "outputs": [],
   "source": [
    "def ldata(archive):\n",
    "    f=open(archive)\n",
    "    data=[]\n",
    "    for line in f:\n",
    "        line=line.strip()\n",
    "        col=line.split()\n",
    "        data.append(col)\n",
    "    return data\n",
    "def ldata2(archive):\n",
    "    f=open(archive)\n",
    "    data=[]\n",
    "    for line in f:\n",
    "        line=line.strip()\n",
    "        col=line.split()\n",
    "        data.append([col[0],col[1]])\n",
    "    return data\n",
    "def ldata3(archive):\n",
    "    f=open(archive)\n",
    "    data=[]\n",
    "    for line in f:\n",
    "        line=line.strip()\n",
    "        col=line.split()\n",
    "        data.append(col[1])\n",
    "    return data"
   ]
  },
  {
   "cell_type": "code",
   "execution_count": 2,
   "metadata": {},
   "outputs": [
    {
     "name": "stderr",
     "output_type": "stream",
     "text": [
      "/usr/local/lib/python3.5/dist-packages/pandas/core/computation/__init__.py:18: UserWarning: The installed version of numexpr 2.4.3 is not supported in pandas and will be not be used\n",
      "The minimum supported version is 2.4.6\n",
      "\n",
      "  ver=ver, min_ver=_MIN_NUMEXPR_VERSION), UserWarning)\n"
     ]
    }
   ],
   "source": [
    "import numpy as np\n",
    "import networkx as nx\n",
    "import matplotlib.pyplot as plt\n",
    "import pandas as pd\n",
    "import random\n",
    "import copy\n",
    "red_proteinas=ldata(\"tc02Data/yeast_AP-MS.txt\")\n",
    "red_binarias=ldata(\"tc02Data/yeast_Y2H.txt\")\n",
    "red_literatura=ldata(\"tc02Data/yeast_LIT.txt\")\n",
    "Esencialidad=ldata3(\"tc02Data/Essential_ORFs_paperHe.txt\")\n",
    "red_litreguly=ldata2(\"tc02Data/yeast_LIT_Reguly.txt\")\n",
    "\n"
   ]
  },
  {
   "cell_type": "code",
   "execution_count": 3,
   "metadata": {
    "collapsed": true
   },
   "outputs": [],
   "source": [
    "G = nx.Graph()#directed\n",
    "G.add_edges_from(red_proteinas)\n",
    "G1 = nx.Graph()#directed\n",
    "G1.add_edges_from(red_binarias)\n",
    "G2 = nx.Graph()#directed\n",
    "G2.add_edges_from(red_literatura)\n",
    "G3 = nx.Graph()#directed\n",
    "G3.add_edges_from(red_litreguly)"
   ]
  },
  {
   "cell_type": "code",
   "execution_count": 4,
   "metadata": {
    "collapsed": true
   },
   "outputs": [],
   "source": [
    "def K(H):\n",
    "    k=sum(H.degree(k) for k in H)/H.number_of_nodes()\n",
    "    salida=[k]\n",
    "    return salida"
   ]
  },
  {
   "cell_type": "code",
   "execution_count": 5,
   "metadata": {},
   "outputs": [
    {
     "data": {
      "text/html": [
       "<div>\n",
       "<style>\n",
       "    .dataframe thead tr:only-child th {\n",
       "        text-align: right;\n",
       "    }\n",
       "\n",
       "    .dataframe thead th {\n",
       "        text-align: left;\n",
       "    }\n",
       "\n",
       "    .dataframe tbody tr th {\n",
       "        vertical-align: top;\n",
       "    }\n",
       "</style>\n",
       "<table border=\"1\" class=\"dataframe\">\n",
       "  <thead>\n",
       "    <tr style=\"text-align: right;\">\n",
       "      <th></th>\n",
       "      <th>Red</th>\n",
       "      <th>Número de Nodos</th>\n",
       "      <th>Número de Enlaces</th>\n",
       "      <th>Grado medio</th>\n",
       "      <th>Clustering promedio</th>\n",
       "    </tr>\n",
       "  </thead>\n",
       "  <tbody>\n",
       "    <tr>\n",
       "      <th>0</th>\n",
       "      <td>Proteinas</td>\n",
       "      <td>1622</td>\n",
       "      <td>9070</td>\n",
       "      <td>[11.183723797780518]</td>\n",
       "      <td>0.554636</td>\n",
       "    </tr>\n",
       "    <tr>\n",
       "      <th>1</th>\n",
       "      <td>Binarias</td>\n",
       "      <td>2018</td>\n",
       "      <td>2930</td>\n",
       "      <td>[2.9038652130822595]</td>\n",
       "      <td>0.046194</td>\n",
       "    </tr>\n",
       "    <tr>\n",
       "      <th>2</th>\n",
       "      <td>Literatura</td>\n",
       "      <td>1536</td>\n",
       "      <td>2925</td>\n",
       "      <td>[3.80859375]</td>\n",
       "      <td>0.292492</td>\n",
       "    </tr>\n",
       "    <tr>\n",
       "      <th>3</th>\n",
       "      <td>Literatura Reg.</td>\n",
       "      <td>3309</td>\n",
       "      <td>11859</td>\n",
       "      <td>[7.167724388032639]</td>\n",
       "      <td>0.260976</td>\n",
       "    </tr>\n",
       "  </tbody>\n",
       "</table>\n",
       "</div>"
      ],
      "text/plain": [
       "               Red  Número de Nodos  Número de Enlaces          Grado medio   \\\n",
       "0        Proteinas             1622               9070  [11.183723797780518]   \n",
       "1         Binarias             2018               2930  [2.9038652130822595]   \n",
       "2       Literatura             1536               2925          [3.80859375]   \n",
       "3  Literatura Reg.             3309              11859   [7.167724388032639]   \n",
       "\n",
       "   Clustering promedio  \n",
       "0             0.554636  \n",
       "1             0.046194  \n",
       "2             0.292492  \n",
       "3             0.260976  "
      ]
     },
     "execution_count": 5,
     "metadata": {},
     "output_type": "execute_result"
    }
   ],
   "source": [
    "data = pd.DataFrame({\"Red\":[\"Proteinas\",\"Binarias\",\"Literatura\", \"Literatura Reg.\"],\n",
    "                     \"Número de Nodos\":[G.number_of_nodes(),G1.number_of_nodes(),G2.number_of_nodes(), G3.number_of_nodes()],\n",
    "                     \"Número de Enlaces\":[G.number_of_edges(),G1.number_of_edges(),G2.number_of_edges(),G3.number_of_edges()],\n",
    "                 \"Grado medio \":[K(G),K(G1),K(G2),K(G3)],\n",
    "                 \"Clustering promedio\":[nx.average_clustering(G),nx.average_clustering(G1),nx.average_clustering(G2),nx.average_clustering(G3)] })\n",
    "cols= ['Red', 'Número de Nodos', 'Número de Enlaces', 'Grado medio ','Clustering promedio']\n",
    "\n",
    "data[cols]\n"
   ]
  },
  {
   "cell_type": "code",
   "execution_count": 6,
   "metadata": {
    "collapsed": true
   },
   "outputs": [],
   "source": [
    "def overlap(J,K):\n",
    "    a=0\n",
    "    for j in nx.edges(J):\n",
    "        for i in nx.edges(K):\n",
    "            if i==j or i[0]==j[1] and i[1]==j[0]:\n",
    "                a+=1 \n",
    "                \n",
    "    return a/nx.number_of_edges(J), a/nx.number_of_edges(K) "
   ]
  },
  {
   "cell_type": "code",
   "execution_count": 7,
   "metadata": {
    "collapsed": true
   },
   "outputs": [],
   "source": [
    "Over1=overlap(G,G1)\n",
    "Over2=overlap(G,G2)\n",
    "Over3=overlap(G,G3)\n",
    "Over4=overlap(G1,G2)\n",
    "Over5=overlap(G1,G3)\n",
    "Over6=overlap(G2,G3)\n"
   ]
  },
  {
   "cell_type": "code",
   "execution_count": 8,
   "metadata": {},
   "outputs": [
    {
     "data": {
      "text/html": [
       "<div>\n",
       "<style>\n",
       "    .dataframe thead tr:only-child th {\n",
       "        text-align: right;\n",
       "    }\n",
       "\n",
       "    .dataframe thead th {\n",
       "        text-align: left;\n",
       "    }\n",
       "\n",
       "    .dataframe tbody tr th {\n",
       "        vertical-align: top;\n",
       "    }\n",
       "</style>\n",
       "<table border=\"1\" class=\"dataframe\">\n",
       "  <thead>\n",
       "    <tr style=\"text-align: right;\">\n",
       "      <th></th>\n",
       "      <th>.</th>\n",
       "      <th>..</th>\n",
       "      <th>...</th>\n",
       "      <th>....</th>\n",
       "    </tr>\n",
       "  </thead>\n",
       "  <tbody>\n",
       "    <tr>\n",
       "      <th>0</th>\n",
       "      <td>Proteinas</td>\n",
       "      <td>0.0887372</td>\n",
       "      <td>0.443761</td>\n",
       "      <td>0.212497</td>\n",
       "    </tr>\n",
       "    <tr>\n",
       "      <th>1</th>\n",
       "      <td>0.0286659</td>\n",
       "      <td>Binarias</td>\n",
       "      <td>0.0888889</td>\n",
       "      <td>0.0403913</td>\n",
       "    </tr>\n",
       "    <tr>\n",
       "      <th>2</th>\n",
       "      <td>0.143109</td>\n",
       "      <td>0.0887372</td>\n",
       "      <td>Literatura</td>\n",
       "      <td>0.241167</td>\n",
       "    </tr>\n",
       "    <tr>\n",
       "      <th>3</th>\n",
       "      <td>0.277839</td>\n",
       "      <td>0.163481</td>\n",
       "      <td>0.977778</td>\n",
       "      <td>Literatura Reg.</td>\n",
       "    </tr>\n",
       "  </tbody>\n",
       "</table>\n",
       "</div>"
      ],
      "text/plain": [
       "           .         ..         ...             ....\n",
       "0  Proteinas  0.0887372    0.443761         0.212497\n",
       "1  0.0286659   Binarias   0.0888889        0.0403913\n",
       "2   0.143109  0.0887372  Literatura         0.241167\n",
       "3   0.277839   0.163481    0.977778  Literatura Reg."
      ]
     },
     "execution_count": 8,
     "metadata": {},
     "output_type": "execute_result"
    }
   ],
   "source": [
    "data = pd.DataFrame({\".\":[\"Proteinas\",Over1[0],Over2[0], Over3[0]],\n",
    "                     \"..\":[Over1[1],\"Binarias\",Over4[0],Over5[0]],\n",
    "                     \"...\":[Over2[1],Over4[1],\"Literatura\",Over6[0]],\n",
    "                 \"....\":[Over3[1],Over5[1],Over6[1],\"Literatura Reg.\"]})\n",
    "cols= ['.', '..', '...', '....']\n",
    "\n",
    "data[cols]\n"
   ]
  },
  {
   "cell_type": "code",
   "execution_count": null,
   "metadata": {
    "collapsed": true
   },
   "outputs": [],
   "source": []
  },
  {
   "cell_type": "code",
   "execution_count": 9,
   "metadata": {
    "collapsed": true
   },
   "outputs": [],
   "source": [
    "def NodosEsencialesGrado(J,K):\n",
    "    NE=[]\n",
    "    k=[]\n",
    "    for i in nx.nodes(J):\n",
    "        for j in K:\n",
    "            if i==j:\n",
    "                NE.append(i)\n",
    "                k.append(J.degree(i))\n",
    "    return k, NE    "
   ]
  },
  {
   "cell_type": "code",
   "execution_count": 10,
   "metadata": {
    "collapsed": true
   },
   "outputs": [],
   "source": [
    "def Histograma(J,K):  \n",
    "    F=NodosEsencialesGrado(J,K)\n",
    "    plt.hist(F[0],bins=max(F[0]))\n",
    "    plt.title(\"Histograma\")\n",
    "    return plt.show()"
   ]
  },
  {
   "cell_type": "code",
   "execution_count": 11,
   "metadata": {},
   "outputs": [
    {
     "data": {
      "image/png": "[encoded data removed]",
      "text/plain": [
       "<matplotlib.figure.Figure at 0x7f66d83297f0>"
      ]
     },
     "metadata": {},
     "output_type": "display_data"
    }
   ],
   "source": [
    "Histograma(G,Esencialidad)"
   ]
  },
  {
   "cell_type": "code",
   "execution_count": 12,
   "metadata": {
    "collapsed": true
   },
   "outputs": [],
   "source": [
    "def Zotenko(Grafo,Lista):\n",
    "    Gcc = sorted(nx.connected_component_subgraphs(Grafo), key=len, reverse=True) #ordeno los subgrafos de mayor a menor segun su tama;o\n",
    "    G0 = Gcc[0]\n",
    "    ###Acá seteamos los esenciales y le damos su grado\n",
    "    #NE=[]\n",
    "    k=[]\n",
    "    for i in nx.nodes(G0):\n",
    "        for j in Lista:\n",
    "            if i==j:\n",
    "                #NE.append(i)\n",
    "                k.append(G0.degree(i))\n",
    "    #k_NE=[k,NE]\n",
    "    \n",
    "    ###Seteamos todos los nodos y su grado\n",
    "    #N=[]\n",
    "    K=[]\n",
    "    for i in nx.nodes(G0):\n",
    "        #N.append(i)\n",
    "        K.append(G0.degree(i))\n",
    "    #k_N=[K,N]\n",
    "    \n",
    "    ###Número de hubbs (normalizado) y k0\n",
    "    A=[]\n",
    "    #ko=[]\n",
    "    B=[]\n",
    "    for k0 in set(K):\n",
    "        a=0\n",
    "        for i in K:\n",
    "            if i>=k0:\n",
    "                a+=1\n",
    "        A.append(a/nx.number_of_nodes(G0))\n",
    "        #ko.append(k0)\n",
    "        ###El eje y  \n",
    "        b=0\n",
    "        for l in k:\n",
    "            if l>=k0:\n",
    "                b+=1\n",
    "        B.append(b/a)\n",
    "    \n",
    "    return A,B"
   ]
  },
  {
   "cell_type": "code",
   "execution_count": 13,
   "metadata": {
    "collapsed": true
   },
   "outputs": [],
   "source": [
    "Ñ=Zotenko(G,Esencialidad)\n",
    "Ñ1=Zotenko(G1,Esencialidad)\n",
    "Ñ2=Zotenko(G2,Esencialidad)\n",
    "Ñ3=Zotenko(G3,Esencialidad)"
   ]
  },
  {
   "cell_type": "code",
   "execution_count": 14,
   "metadata": {},
   "outputs": [
    {
     "data": {
      "image/png": "[encoded data removed]",
      "text/plain": [
       "<matplotlib.figure.Figure at 0x7f66a1d2bda0>"
      ]
     },
     "metadata": {},
     "output_type": "display_data"
    }
   ],
   "source": [
    "plt.plot(Ñ[0],Ñ[1])\n",
    "plt.plot(Ñ1[0],Ñ1[1])\n",
    "plt.plot(Ñ2[0],Ñ2[1])\n",
    "plt.plot(Ñ3[0],Ñ3[1])\n",
    "plt.title(\"Relationship between degree and essentiality in the tested networks\")\n",
    "plt.ylabel(\"Fracción de nodos esenciales\")\n",
    "plt.xlabel(\"Fracción de Hubs en función del grado de corte\")\n",
    "plt.show()"
   ]
  },
  {
   "cell_type": "code",
   "execution_count": 15,
   "metadata": {
    "collapsed": true
   },
   "outputs": [],
   "source": [
    "def Nnodos (H):    \n",
    "    Gcc = sorted(nx.connected_component_subgraphs(H), key=len, reverse=True) #ordeno los subgrafos de mayor a menor segun su tama;o\n",
    "    G0 = Gcc[0] #componente gigante \n",
    "    return G0.number_of_nodes() #función que me devuelve el número de nodos de la componente gigante de un grafo\n",
    "    \n",
    "def Sacando_nodos(Grafo,GN,NumeroDeNodo):\n",
    "    G=Grafo\n",
    "    Gcc = sorted(nx.connected_component_subgraphs(G), key=len, reverse=True)\n",
    "    NnodosComponenteGigante=[]\n",
    "    NodosQueSaco=[]\n",
    "    N=0\n",
    "    for g,n in GN:\n",
    "        if N<NumeroDeNodo-1:#número de nodos menos 1 \n",
    "\n",
    "            N+=1\n",
    "            Gcc[0].remove_node(n)\n",
    "            NnodosComponenteGigante.append(Nnodos(Gcc[0])) #me devuelve el número de nodos de la componente gigante \n",
    "            NodosQueSaco.append(N) #me devuelve el número de nodos que saque hasta el momento (=número de pasos)\n",
    "                                    #ver de dividirlo por el total de nodos\n",
    "    return NnodosComponenteGigante, NodosQueSaco\n",
    "\n",
    "def Shuffle_en_nodo(lista,orden,GradoMaximo):  #función que me devuelve lista de grado-nodo pero que shufflea dentro de los nodos de mismo grado \n",
    "    GNordenado_shuflle=[]\n",
    "    RANGO=[i for i in range(GradoMaximo+1)]\n",
    "    if orden==\"AS\":\n",
    "        for i in RANGO:\n",
    "            GRADO=[]\n",
    "            NODO=[]\n",
    "\n",
    "            for j in lista:\n",
    "                if j[0]==i:\n",
    "                    GRADO.append(j[0])\n",
    "                    NODO.append(j[1])\n",
    "\n",
    "            random.shuffle(NODO)\n",
    "            a=0\n",
    "            for h in GRADO:\n",
    "                GNordenado_shuflle.append([h,NODO[a]])\n",
    "                a+=1\n",
    "    else:\n",
    "        for i in sorted(RANGO,reverse=True):\n",
    "            GRADO=[]\n",
    "            NODO=[]\n",
    "\n",
    "            for j in lista:\n",
    "                if j[0]==i:\n",
    "                    GRADO.append(j[0])\n",
    "                    NODO.append(j[1])\n",
    "\n",
    "            random.shuffle(NODO)\n",
    "            a=0\n",
    "            for h in GRADO:\n",
    "                GNordenado_shuflle.append([h,NODO[a]])\n",
    "                a+=1\n",
    "        \n",
    "    return GNordenado_shuflle"
   ]
  },
  {
   "cell_type": "code",
   "execution_count": 17,
   "metadata": {
    "collapsed": true
   },
   "outputs": [],
   "source": [
    "def DemoliendoRedes(Grafo,NumeroDeNodos,Centralidad,iteraciones):\n",
    "    G=copy.deepcopy(Grafo)\n",
    "    Gcc = sorted(nx.connected_component_subgraphs(G), key=len, reverse=True)\n",
    "    NnodosComponenteGigante=[]\n",
    "    NQS=list(np.arange(1,NumeroDeNodos))\n",
    "    NodosQueSaco=[]\n",
    "    for i in NQS:\n",
    "        NodosQueSaco.append(i/NumeroDeNodos)\n",
    "    \n",
    "    N=0\n",
    "    if Centralidad==\"Grado\":\n",
    "        C=nx.degree_centrality(Gcc[0])\n",
    "        C_N=sorted([[C[nodo],nodo] for nodo in C], reverse=True)\n",
    "        Nodos=[nodo for g,nodo in C_N]\n",
    "        for n in Nodos[:NumeroDeNodos-1]:\n",
    "            if N<NumeroDeNodos-1:\n",
    "                N+=1\n",
    "                Gcc[0].remove_node(n)\n",
    "                NnodosComponenteGigante.append(Nnodos(Gcc[0])/NumeroDeNodos)\n",
    "#                NodosQueSaco.append(N/NumeroDeNodos)\n",
    "    if Centralidad==\"Autovector\":\n",
    "        C=nx.eigenvector_centrality(Gcc[0])\n",
    "        C_N=sorted([[C[nodo],nodo] for nodo in C], reverse=True)\n",
    "        Nodos=[nodo for g,nodo in C_N]\n",
    "        for n in Nodos[:NumeroDeNodos-1]:\n",
    "            if N<NumeroDeNodos-1:\n",
    "                N+=1\n",
    "                Gcc[0].remove_node(n)\n",
    "                NnodosComponenteGigante.append(Nnodos(Gcc[0])/NumeroDeNodos)\n",
    "#                NodosQueSaco.append(N/NumeroDeNodos)\n",
    "    if Centralidad==\"Subgrafo\":\n",
    "        C=nx.communicability_centrality(Gcc[0])\n",
    "        C_N=sorted([[C[nodo],nodo] for nodo in C], reverse=True)\n",
    "        Nodos=[nodo for g,nodo in C_N]\n",
    "        for n in Nodos[:NumeroDeNodos-1]:\n",
    "            if N<NumeroDeNodos-1:\n",
    "                N+=1\n",
    "                Gcc[0].remove_node(n)\n",
    "                NnodosComponenteGigante.append(Nnodos(Gcc[0])/NumeroDeNodos)\n",
    "#                NodosQueSaco.append(N/NumeroDeNodos)\n",
    "    if Centralidad==\"CaminoMasCorto\":\n",
    "        C=nx.betweenness_centrality(Gcc[0])\n",
    "        C_N=sorted([[C[nodo],nodo] for nodo in C], reverse=True)\n",
    "        Nodos=[nodo for g,nodo in C_N]\n",
    "        for n in Nodos[:NumeroDeNodos-1]:\n",
    "            if N<NumeroDeNodos-1:\n",
    "                N+=1\n",
    "                Gcc[0].remove_node(n)\n",
    "                NnodosComponenteGigante.append(Nnodos(Gcc[0])/NumeroDeNodos)\n",
    "#                NodosQueSaco.append(N/NumeroDeNodos)\n",
    "    if Centralidad==\"Flujo\":\n",
    "        C=nx.current_flow_closeness_centrality(Gcc[0])\n",
    "        C_N=sorted([[C[nodo],nodo] for nodo in C], reverse=True)\n",
    "        Nodos=[nodo for g,nodo in C_N]\n",
    "        for n in Nodos[:NumeroDeNodos-1]:\n",
    "            if N<NumeroDeNodos-1:\n",
    "                N+=1\n",
    "                Gcc[0].remove_node(n)\n",
    "                NnodosComponenteGigante.append(Nnodos(Gcc[0])/NumeroDeNodos)\n",
    "#                NodosQueSaco.append(N/NumeroDeNodos)\n",
    "    if Centralidad==\"Random\":\n",
    "        NodosCG=[]\n",
    "        for j in range(iteraciones):\n",
    "            NN=0\n",
    "            G_j=copy.deepcopy(Gcc[0])\n",
    "            Nodos=list(G_j.nodes())\n",
    "            random.shuffle(Nodos)\n",
    "            NnodosCGrandom=[]\n",
    "            for n in Nodos[:NumeroDeNodos-1]:\n",
    "                if NN<NumeroDeNodos-1:\n",
    "                    NN+=1\n",
    "                    G_j.remove_node(n)\n",
    "                    NnodosCGrandom.append(Nnodos(G_j)/NumeroDeNodos) \n",
    "#                    NodosQueSaco.append(NN/NumeroDeNodos) ##revisar. Hay que  ver si es necesario considerarlo o no. Trae problemas así cómo está porque no lo estamos promediando...\n",
    "            NodosCG.append(NnodosCGrandom) \n",
    "        \n",
    "        for i in range(NumeroDeNodos-1):\n",
    "            lista=[]\n",
    "            for k in range(iteraciones):\n",
    "                lista.append(NodosCG[k][i])\n",
    "            NnodosComponenteGigante.append(sum(lista)/iteraciones)\n",
    "        \n",
    "        \n",
    "    return NnodosComponenteGigante, NodosQueSaco       "
   ]
  },
  {
   "cell_type": "code",
   "execution_count": 18,
   "metadata": {
    "collapsed": true
   },
   "outputs": [],
   "source": [
    "Centralidades=[\"Grado\",\"Autovector\",\"CaminoMasCorto\",\"Flujo\",\"Random\"]\n",
    "Grafos=[G,G1,G2,G3]\n",
    "TamañoComponenteGigante=[Nnodos(G),Nnodos(G1),Nnodos(G2),Nnodos(G3)]"
   ]
  },
  {
   "cell_type": "code",
   "execution_count": 19,
   "metadata": {
    "collapsed": true
   },
   "outputs": [],
   "source": [
    "def creartxt(lista1,lista2,NombreArchivo):         ##Lo único que hay que decirle es las dos listas a guardar. Se podrían guardar más, pero hace falta agregar un par de cosas\n",
    "    with open(NombreArchivo,'w') as f:             ##Nombre de archivo hay que ponerlo entre comillas y punto txt. Es el nombre que queremos que tenga el archivo\n",
    "        a=0\n",
    "        for item in lista1:\n",
    "            f.write(\"{}\\t{}\\n\".format(item,lista2[a]))\n",
    "            a+=1"
   ]
  },
  {
   "cell_type": "code",
   "execution_count": 20,
   "metadata": {},
   "outputs": [
    {
     "ename": "KeyboardInterrupt",
     "evalue": "",
     "output_type": "error",
     "traceback": [
      "\u001b[0;31m---------------------------------------------------------------------------\u001b[0m",
      "\u001b[0;31mKeyboardInterrupt\u001b[0m                         Traceback (most recent call last)",
      "\u001b[0;32m<ipython-input-20-9183865a56aa>\u001b[0m in \u001b[0;36m<module>\u001b[0;34m()\u001b[0m\n\u001b[1;32m      8\u001b[0m     \u001b[0mkaka\u001b[0m\u001b[0;34m=\u001b[0m\u001b[0;34m[\u001b[0m\u001b[0;34m]\u001b[0m\u001b[0;34m\u001b[0m\u001b[0m\n\u001b[1;32m      9\u001b[0m     \u001b[0;32mfor\u001b[0m \u001b[0mi\u001b[0m \u001b[0;32min\u001b[0m \u001b[0mCentralidades\u001b[0m\u001b[0;34m:\u001b[0m\u001b[0;34m\u001b[0m\u001b[0m\n\u001b[0;32m---> 10\u001b[0;31m         \u001b[0mkaka\u001b[0m\u001b[0;34m.\u001b[0m\u001b[0mappend\u001b[0m\u001b[0;34m(\u001b[0m\u001b[0mDemoliendoRedes\u001b[0m\u001b[0;34m(\u001b[0m\u001b[0mj\u001b[0m\u001b[0;34m,\u001b[0m\u001b[0mTamañoComponenteGigante\u001b[0m\u001b[0;34m[\u001b[0m\u001b[0ma\u001b[0m\u001b[0;34m]\u001b[0m\u001b[0;34m,\u001b[0m\u001b[0mi\u001b[0m\u001b[0;34m,\u001b[0m\u001b[0;36m100\u001b[0m\u001b[0;34m)\u001b[0m\u001b[0;34m)\u001b[0m\u001b[0;34m\u001b[0m\u001b[0m\n\u001b[0m\u001b[1;32m     11\u001b[0m     \u001b[0mTodo\u001b[0m\u001b[0;34m.\u001b[0m\u001b[0mappend\u001b[0m\u001b[0;34m(\u001b[0m\u001b[0mkaka\u001b[0m\u001b[0;34m)\u001b[0m\u001b[0;34m\u001b[0m\u001b[0m\n\u001b[1;32m     12\u001b[0m     \u001b[0ma\u001b[0m\u001b[0;34m+=\u001b[0m\u001b[0;36m1\u001b[0m\u001b[0;34m\u001b[0m\u001b[0m\n",
      "\u001b[0;32m<ipython-input-17-4049df88a2f7>\u001b[0m in \u001b[0;36mDemoliendoRedes\u001b[0;34m(Grafo, NumeroDeNodos, Centralidad, iteraciones)\u001b[0m\n\u001b[1;32m     71\u001b[0m                     \u001b[0mNN\u001b[0m\u001b[0;34m+=\u001b[0m\u001b[0;36m1\u001b[0m\u001b[0;34m\u001b[0m\u001b[0m\n\u001b[1;32m     72\u001b[0m                     \u001b[0mG_j\u001b[0m\u001b[0;34m.\u001b[0m\u001b[0mremove_node\u001b[0m\u001b[0;34m(\u001b[0m\u001b[0mn\u001b[0m\u001b[0;34m)\u001b[0m\u001b[0;34m\u001b[0m\u001b[0m\n\u001b[0;32m---> 73\u001b[0;31m                     \u001b[0mNnodosCGrandom\u001b[0m\u001b[0;34m.\u001b[0m\u001b[0mappend\u001b[0m\u001b[0;34m(\u001b[0m\u001b[0mNnodos\u001b[0m\u001b[0;34m(\u001b[0m\u001b[0mG_j\u001b[0m\u001b[0;34m)\u001b[0m\u001b[0;34m/\u001b[0m\u001b[0mNumeroDeNodos\u001b[0m\u001b[0;34m)\u001b[0m\u001b[0;34m\u001b[0m\u001b[0m\n\u001b[0m\u001b[1;32m     74\u001b[0m \u001b[0;31m#                    NodosQueSaco.append(NN/NumeroDeNodos) ##revisar. Hay que  ver si es necesario considerarlo o no. Trae problemas así cómo está porque no lo estamos promediando...\u001b[0m\u001b[0;34m\u001b[0m\u001b[0;34m\u001b[0m\u001b[0m\n\u001b[1;32m     75\u001b[0m             \u001b[0mNodosCG\u001b[0m\u001b[0;34m.\u001b[0m\u001b[0mappend\u001b[0m\u001b[0;34m(\u001b[0m\u001b[0mNnodosCGrandom\u001b[0m\u001b[0;34m)\u001b[0m\u001b[0;34m\u001b[0m\u001b[0m\n",
      "\u001b[0;32m<ipython-input-15-0ccb96e78fa9>\u001b[0m in \u001b[0;36mNnodos\u001b[0;34m(H)\u001b[0m\n\u001b[1;32m      1\u001b[0m \u001b[0;32mdef\u001b[0m \u001b[0mNnodos\u001b[0m \u001b[0;34m(\u001b[0m\u001b[0mH\u001b[0m\u001b[0;34m)\u001b[0m\u001b[0;34m:\u001b[0m\u001b[0;34m\u001b[0m\u001b[0m\n\u001b[0;32m----> 2\u001b[0;31m     \u001b[0mGcc\u001b[0m \u001b[0;34m=\u001b[0m \u001b[0msorted\u001b[0m\u001b[0;34m(\u001b[0m\u001b[0mnx\u001b[0m\u001b[0;34m.\u001b[0m\u001b[0mconnected_component_subgraphs\u001b[0m\u001b[0;34m(\u001b[0m\u001b[0mH\u001b[0m\u001b[0;34m)\u001b[0m\u001b[0;34m,\u001b[0m \u001b[0mkey\u001b[0m\u001b[0;34m=\u001b[0m\u001b[0mlen\u001b[0m\u001b[0;34m,\u001b[0m \u001b[0mreverse\u001b[0m\u001b[0;34m=\u001b[0m\u001b[0;32mTrue\u001b[0m\u001b[0;34m)\u001b[0m \u001b[0;31m#ordeno los subgrafos de mayor a menor segun su tama;o\u001b[0m\u001b[0;34m\u001b[0m\u001b[0m\n\u001b[0m\u001b[1;32m      3\u001b[0m     \u001b[0mG0\u001b[0m \u001b[0;34m=\u001b[0m \u001b[0mGcc\u001b[0m\u001b[0;34m[\u001b[0m\u001b[0;36m0\u001b[0m\u001b[0;34m]\u001b[0m \u001b[0;31m#componente gigante\u001b[0m\u001b[0;34m\u001b[0m\u001b[0m\n\u001b[1;32m      4\u001b[0m     \u001b[0;32mreturn\u001b[0m \u001b[0mG0\u001b[0m\u001b[0;34m.\u001b[0m\u001b[0mnumber_of_nodes\u001b[0m\u001b[0;34m(\u001b[0m\u001b[0;34m)\u001b[0m \u001b[0;31m#función que me devuelve el número de nodos de la componente gigante de un grafo\u001b[0m\u001b[0;34m\u001b[0m\u001b[0m\n\u001b[1;32m      5\u001b[0m \u001b[0;34m\u001b[0m\u001b[0m\n",
      "\u001b[0;32m~/.local/lib/python3.5/site-packages/networkx/algorithms/components/connected.py\u001b[0m in \u001b[0;36mconnected_component_subgraphs\u001b[0;34m(G, copy)\u001b[0m\n\u001b[1;32m     87\u001b[0m     \u001b[0;32mfor\u001b[0m \u001b[0mc\u001b[0m \u001b[0;32min\u001b[0m \u001b[0mconnected_components\u001b[0m\u001b[0;34m(\u001b[0m\u001b[0mG\u001b[0m\u001b[0;34m)\u001b[0m\u001b[0;34m:\u001b[0m\u001b[0;34m\u001b[0m\u001b[0m\n\u001b[1;32m     88\u001b[0m         \u001b[0;32mif\u001b[0m \u001b[0mcopy\u001b[0m\u001b[0;34m:\u001b[0m\u001b[0;34m\u001b[0m\u001b[0m\n\u001b[0;32m---> 89\u001b[0;31m             \u001b[0;32myield\u001b[0m \u001b[0mG\u001b[0m\u001b[0;34m.\u001b[0m\u001b[0msubgraph\u001b[0m\u001b[0;34m(\u001b[0m\u001b[0mc\u001b[0m\u001b[0;34m)\u001b[0m\u001b[0;34m.\u001b[0m\u001b[0mcopy\u001b[0m\u001b[0;34m(\u001b[0m\u001b[0;34m)\u001b[0m\u001b[0;34m\u001b[0m\u001b[0m\n\u001b[0m\u001b[1;32m     90\u001b[0m         \u001b[0;32melse\u001b[0m\u001b[0;34m:\u001b[0m\u001b[0;34m\u001b[0m\u001b[0m\n\u001b[1;32m     91\u001b[0m             \u001b[0;32myield\u001b[0m \u001b[0mG\u001b[0m\u001b[0;34m.\u001b[0m\u001b[0msubgraph\u001b[0m\u001b[0;34m(\u001b[0m\u001b[0mc\u001b[0m\u001b[0;34m)\u001b[0m\u001b[0;34m\u001b[0m\u001b[0m\n",
      "\u001b[0;32m~/.local/lib/python3.5/site-packages/networkx/classes/graph.py\u001b[0m in \u001b[0;36mcopy\u001b[0;34m(self, as_view)\u001b[0m\n\u001b[1;32m   1420\u001b[0m         \u001b[0mG\u001b[0m\u001b[0;34m.\u001b[0m\u001b[0madd_nodes_from\u001b[0m\u001b[0;34m(\u001b[0m\u001b[0;34m(\u001b[0m\u001b[0mn\u001b[0m\u001b[0;34m,\u001b[0m \u001b[0md\u001b[0m\u001b[0;34m.\u001b[0m\u001b[0mcopy\u001b[0m\u001b[0;34m(\u001b[0m\u001b[0;34m)\u001b[0m\u001b[0;34m)\u001b[0m \u001b[0;32mfor\u001b[0m \u001b[0mn\u001b[0m\u001b[0;34m,\u001b[0m \u001b[0md\u001b[0m \u001b[0;32min\u001b[0m \u001b[0mself\u001b[0m\u001b[0;34m.\u001b[0m\u001b[0m_node\u001b[0m\u001b[0;34m.\u001b[0m\u001b[0mitems\u001b[0m\u001b[0;34m(\u001b[0m\u001b[0;34m)\u001b[0m\u001b[0;34m)\u001b[0m\u001b[0;34m\u001b[0m\u001b[0m\n\u001b[1;32m   1421\u001b[0m         G.add_edges_from((u, v, datadict.copy())\n\u001b[0;32m-> 1422\u001b[0;31m                          \u001b[0;32mfor\u001b[0m \u001b[0mu\u001b[0m\u001b[0;34m,\u001b[0m \u001b[0mnbrs\u001b[0m \u001b[0;32min\u001b[0m \u001b[0mself\u001b[0m\u001b[0;34m.\u001b[0m\u001b[0m_adj\u001b[0m\u001b[0;34m.\u001b[0m\u001b[0mitems\u001b[0m\u001b[0;34m(\u001b[0m\u001b[0;34m)\u001b[0m\u001b[0;34m\u001b[0m\u001b[0m\n\u001b[0m\u001b[1;32m   1423\u001b[0m                          for v, datadict in nbrs.items())\n\u001b[1;32m   1424\u001b[0m         \u001b[0;32mreturn\u001b[0m \u001b[0mG\u001b[0m\u001b[0;34m\u001b[0m\u001b[0m\n",
      "\u001b[0;32m~/.local/lib/python3.5/site-packages/networkx/classes/graph.py\u001b[0m in \u001b[0;36madd_edges_from\u001b[0;34m(self, ebunch_to_add, **attr)\u001b[0m\n\u001b[1;32m    923\u001b[0m         \u001b[0;34m>>\u001b[0m\u001b[0;34m>\u001b[0m \u001b[0mG\u001b[0m\u001b[0;34m.\u001b[0m\u001b[0madd_edges_from\u001b[0m\u001b[0;34m(\u001b[0m\u001b[0;34m[\u001b[0m\u001b[0;34m(\u001b[0m\u001b[0;36m3\u001b[0m\u001b[0;34m,\u001b[0m \u001b[0;36m4\u001b[0m\u001b[0;34m)\u001b[0m\u001b[0;34m,\u001b[0m \u001b[0;34m(\u001b[0m\u001b[0;36m1\u001b[0m\u001b[0;34m,\u001b[0m \u001b[0;36m4\u001b[0m\u001b[0;34m)\u001b[0m\u001b[0;34m]\u001b[0m\u001b[0;34m,\u001b[0m \u001b[0mlabel\u001b[0m\u001b[0;34m=\u001b[0m\u001b[0;34m'WN2898'\u001b[0m\u001b[0;34m)\u001b[0m\u001b[0;34m\u001b[0m\u001b[0m\n\u001b[1;32m    924\u001b[0m         \"\"\"\n\u001b[0;32m--> 925\u001b[0;31m         \u001b[0;32mfor\u001b[0m \u001b[0me\u001b[0m \u001b[0;32min\u001b[0m \u001b[0mebunch_to_add\u001b[0m\u001b[0;34m:\u001b[0m\u001b[0;34m\u001b[0m\u001b[0m\n\u001b[0m\u001b[1;32m    926\u001b[0m             \u001b[0mne\u001b[0m \u001b[0;34m=\u001b[0m \u001b[0mlen\u001b[0m\u001b[0;34m(\u001b[0m\u001b[0me\u001b[0m\u001b[0;34m)\u001b[0m\u001b[0;34m\u001b[0m\u001b[0m\n\u001b[1;32m    927\u001b[0m             \u001b[0;32mif\u001b[0m \u001b[0mne\u001b[0m \u001b[0;34m==\u001b[0m \u001b[0;36m3\u001b[0m\u001b[0;34m:\u001b[0m\u001b[0;34m\u001b[0m\u001b[0m\n",
      "\u001b[0;32m~/.local/lib/python3.5/site-packages/networkx/classes/graph.py\u001b[0m in \u001b[0;36m<genexpr>\u001b[0;34m(.0)\u001b[0m\n\u001b[1;32m   1421\u001b[0m         G.add_edges_from((u, v, datadict.copy())\n\u001b[1;32m   1422\u001b[0m                          \u001b[0;32mfor\u001b[0m \u001b[0mu\u001b[0m\u001b[0;34m,\u001b[0m \u001b[0mnbrs\u001b[0m \u001b[0;32min\u001b[0m \u001b[0mself\u001b[0m\u001b[0;34m.\u001b[0m\u001b[0m_adj\u001b[0m\u001b[0;34m.\u001b[0m\u001b[0mitems\u001b[0m\u001b[0;34m(\u001b[0m\u001b[0;34m)\u001b[0m\u001b[0;34m\u001b[0m\u001b[0m\n\u001b[0;32m-> 1423\u001b[0;31m                          for v, datadict in nbrs.items())\n\u001b[0m\u001b[1;32m   1424\u001b[0m         \u001b[0;32mreturn\u001b[0m \u001b[0mG\u001b[0m\u001b[0;34m\u001b[0m\u001b[0m\n\u001b[1;32m   1425\u001b[0m \u001b[0;34m\u001b[0m\u001b[0m\n",
      "\u001b[0;32m/usr/lib/python3.5/_collections_abc.py\u001b[0m in \u001b[0;36m__iter__\u001b[0;34m(self)\u001b[0m\n\u001b[1;32m    675\u001b[0m     \u001b[0;32mdef\u001b[0m \u001b[0m__iter__\u001b[0m\u001b[0;34m(\u001b[0m\u001b[0mself\u001b[0m\u001b[0;34m)\u001b[0m\u001b[0;34m:\u001b[0m\u001b[0;34m\u001b[0m\u001b[0m\n\u001b[1;32m    676\u001b[0m         \u001b[0;32mfor\u001b[0m \u001b[0mkey\u001b[0m \u001b[0;32min\u001b[0m \u001b[0mself\u001b[0m\u001b[0;34m.\u001b[0m\u001b[0m_mapping\u001b[0m\u001b[0;34m:\u001b[0m\u001b[0;34m\u001b[0m\u001b[0m\n\u001b[0;32m--> 677\u001b[0;31m             \u001b[0;32myield\u001b[0m \u001b[0;34m(\u001b[0m\u001b[0mkey\u001b[0m\u001b[0;34m,\u001b[0m \u001b[0mself\u001b[0m\u001b[0;34m.\u001b[0m\u001b[0m_mapping\u001b[0m\u001b[0;34m[\u001b[0m\u001b[0mkey\u001b[0m\u001b[0;34m]\u001b[0m\u001b[0;34m)\u001b[0m\u001b[0;34m\u001b[0m\u001b[0m\n\u001b[0m\u001b[1;32m    678\u001b[0m \u001b[0;34m\u001b[0m\u001b[0m\n\u001b[1;32m    679\u001b[0m \u001b[0mItemsView\u001b[0m\u001b[0;34m.\u001b[0m\u001b[0mregister\u001b[0m\u001b[0;34m(\u001b[0m\u001b[0mdict_items\u001b[0m\u001b[0;34m)\u001b[0m\u001b[0;34m\u001b[0m\u001b[0m\n",
      "\u001b[0;32m~/.local/lib/python3.5/site-packages/networkx/classes/coreviews.py\u001b[0m in \u001b[0;36m__getitem__\u001b[0;34m(self, key)\u001b[0m\n\u001b[1;32m    295\u001b[0m \u001b[0;34m\u001b[0m\u001b[0m\n\u001b[1;32m    296\u001b[0m     \u001b[0;32mdef\u001b[0m \u001b[0m__getitem__\u001b[0m\u001b[0;34m(\u001b[0m\u001b[0mself\u001b[0m\u001b[0;34m,\u001b[0m \u001b[0mkey\u001b[0m\u001b[0;34m)\u001b[0m\u001b[0;34m:\u001b[0m\u001b[0;34m\u001b[0m\u001b[0m\n\u001b[0;32m--> 297\u001b[0;31m         \u001b[0;32mif\u001b[0m \u001b[0mkey\u001b[0m \u001b[0;32min\u001b[0m \u001b[0mself\u001b[0m\u001b[0;34m.\u001b[0m\u001b[0m_atlas\u001b[0m \u001b[0;32mand\u001b[0m \u001b[0mself\u001b[0m\u001b[0;34m.\u001b[0m\u001b[0mNODE_OK\u001b[0m\u001b[0;34m(\u001b[0m\u001b[0mkey\u001b[0m\u001b[0;34m)\u001b[0m\u001b[0;34m:\u001b[0m\u001b[0;34m\u001b[0m\u001b[0m\n\u001b[0m\u001b[1;32m    298\u001b[0m             \u001b[0;32mreturn\u001b[0m \u001b[0mself\u001b[0m\u001b[0;34m.\u001b[0m\u001b[0m_atlas\u001b[0m\u001b[0;34m[\u001b[0m\u001b[0mkey\u001b[0m\u001b[0;34m]\u001b[0m\u001b[0;34m\u001b[0m\u001b[0m\n\u001b[1;32m    299\u001b[0m         \u001b[0;32mraise\u001b[0m \u001b[0mKeyError\u001b[0m\u001b[0;34m(\u001b[0m\u001b[0;34m\"Key {} not found\"\u001b[0m\u001b[0;34m.\u001b[0m\u001b[0mformat\u001b[0m\u001b[0;34m(\u001b[0m\u001b[0mkey\u001b[0m\u001b[0;34m)\u001b[0m\u001b[0;34m)\u001b[0m\u001b[0;34m\u001b[0m\u001b[0m\n",
      "\u001b[0;32m~/.local/lib/python3.5/site-packages/networkx/classes/coreviews.py\u001b[0m in \u001b[0;36mnew_node_ok\u001b[0;34m(nbr)\u001b[0m\n\u001b[1;32m    330\u001b[0m     \u001b[0;32mdef\u001b[0m \u001b[0m__getitem__\u001b[0m\u001b[0;34m(\u001b[0m\u001b[0mself\u001b[0m\u001b[0;34m,\u001b[0m \u001b[0mnode\u001b[0m\u001b[0;34m)\u001b[0m\u001b[0;34m:\u001b[0m\u001b[0;34m\u001b[0m\u001b[0m\n\u001b[1;32m    331\u001b[0m         \u001b[0;32mif\u001b[0m \u001b[0mnode\u001b[0m \u001b[0;32min\u001b[0m \u001b[0mself\u001b[0m\u001b[0;34m.\u001b[0m\u001b[0m_atlas\u001b[0m \u001b[0;32mand\u001b[0m \u001b[0mself\u001b[0m\u001b[0;34m.\u001b[0m\u001b[0mNODE_OK\u001b[0m\u001b[0;34m(\u001b[0m\u001b[0mnode\u001b[0m\u001b[0;34m)\u001b[0m\u001b[0;34m:\u001b[0m\u001b[0;34m\u001b[0m\u001b[0m\n\u001b[0;32m--> 332\u001b[0;31m             \u001b[0;32mdef\u001b[0m \u001b[0mnew_node_ok\u001b[0m\u001b[0;34m(\u001b[0m\u001b[0mnbr\u001b[0m\u001b[0;34m)\u001b[0m\u001b[0;34m:\u001b[0m\u001b[0;34m\u001b[0m\u001b[0m\n\u001b[0m\u001b[1;32m    333\u001b[0m                 \u001b[0;32mreturn\u001b[0m \u001b[0mself\u001b[0m\u001b[0;34m.\u001b[0m\u001b[0mNODE_OK\u001b[0m\u001b[0;34m(\u001b[0m\u001b[0mnbr\u001b[0m\u001b[0;34m)\u001b[0m \u001b[0;32mand\u001b[0m \u001b[0mself\u001b[0m\u001b[0;34m.\u001b[0m\u001b[0mEDGE_OK\u001b[0m\u001b[0;34m(\u001b[0m\u001b[0mnode\u001b[0m\u001b[0;34m,\u001b[0m \u001b[0mnbr\u001b[0m\u001b[0;34m)\u001b[0m\u001b[0;34m\u001b[0m\u001b[0m\n\u001b[1;32m    334\u001b[0m             \u001b[0;32mreturn\u001b[0m \u001b[0mFilterAtlas\u001b[0m\u001b[0;34m(\u001b[0m\u001b[0mself\u001b[0m\u001b[0;34m.\u001b[0m\u001b[0m_atlas\u001b[0m\u001b[0;34m[\u001b[0m\u001b[0mnode\u001b[0m\u001b[0;34m]\u001b[0m\u001b[0;34m,\u001b[0m \u001b[0mnew_node_ok\u001b[0m\u001b[0;34m)\u001b[0m\u001b[0;34m\u001b[0m\u001b[0m\n",
      "\u001b[0;31mKeyboardInterrupt\u001b[0m: "
     ]
    }
   ],
   "source": [
    "##Todo: cuatro grandes listas (una por cada grafo)\n",
    "##Todo[i]:cinco listas (una por cada centralidad)\n",
    "##Todo[i][j]:dos listas (una Tamaño de CG y otra Nodos que saco)\n",
    "\n",
    "a=0\n",
    "Todo=[]\n",
    "for j in Grafos:\n",
    "    kaka=[]\n",
    "    for i in Centralidades:\n",
    "        kaka.append(DemoliendoRedes(j,TamañoComponenteGigante[a],i,100))\n",
    "    Todo.append(kaka)\n",
    "    a+=1\n",
    "\n",
    "creartxt(Todo[0][0][0],Todo[0][0][1],\"G_Grado.txt\")\n",
    "creartxt(Todo[0][1][0],Todo[0][1][1],\"G_Autovector.txt\")\n",
    "creartxt(Todo[0][2][0],Todo[0][2][1],\"G_CaminoMasCorto.txt\")\n",
    "creartxt(Todo[0][3][0],Todo[0][3][1],\"G_Flujo.txt\")\n",
    "creartxt(Todo[0][4][0],Todo[0][3][1],\"G_Random.txt\")\n",
    "\n",
    "creartxt(Todo[1][0][0],Todo[1][0][1],\"G1_Grado.txt\")\n",
    "creartxt(Todo[1][1][0],Todo[1][1][1],\"G1_Autovector.txt\")\n",
    "creartxt(Todo[1][2][0],Todo[1][2][1],\"G1_CaminoMasCorto.txt\")\n",
    "creartxt(Todo[1][3][0],Todo[1][3][1],\"G1_Flujo.txt\")\n",
    "creartxt(Todo[1][4][0],Todo[1][3][1],\"G1_Random.txt\")\n",
    "\n",
    "creartxt(Todo[2][0][0],Todo[2][0][1],\"G2_Grado.txt\")\n",
    "creartxt(Todo[2][1][0],Todo[2][1][1],\"G2_Autovector.txt\")\n",
    "creartxt(Todo[2][2][0],Todo[2][2][1],\"G2_CaminoMasCorto.txt\")\n",
    "creartxt(Todo[2][3][0],Todo[2][3][1],\"G2_Flujo.txt\")\n",
    "creartxt(Todo[2][4][0],Todo[2][3][1],\"G2_Random.txt\")\n",
    "\n",
    "creartxt(Todo[3][0][0],Todo[3][0][1],\"G3_Grado.txt\")\n",
    "creartxt(Todo[3][1][0],Todo[3][1][1],\"G3_Autovector.txt\")\n",
    "creartxt(Todo[3][2][0],Todo[3][2][1],\"G3_CaminoMasCorto.txt\")\n",
    "creartxt(Todo[3][3][0],Todo[3][3][1],\"G3_Flujo.txt\")\n",
    "creartxt(Todo[3][4][0],Todo[3][3][1],\"G3_Random.txt\")\n"
   ]
  },
  {
   "cell_type": "code",
   "execution_count": 34,
   "metadata": {},
   "outputs": [
    {
     "data": {
      "image/png": "[encoded data removed]",
      "text/plain": [
       "<matplotlib.figure.Figure at 0x1c1d26c1c88>"
      ]
     },
     "metadata": {},
     "output_type": "display_data"
    }
   ],
   "source": [
    "plt.plot(Todo[0][0][1],Todo[0][0][0])\n",
    "plt.plot(Todo[0][1][1],Todo[0][1][0])\n",
    "plt.plot(Todo[0][2][1],Todo[0][2][0])\n",
    "plt.plot(Todo[0][3][1],Todo[0][3][0])\n",
    "plt.plot(Todo[0][3][1],Todo[0][4][0])\n",
    "plt.show()"
   ]
  },
  {
   "cell_type": "code",
   "execution_count": 23,
   "metadata": {},
   "outputs": [
    {
     "data": {
      "text/plain": [
       "[]"
      ]
     },
     "execution_count": 23,
     "metadata": {},
     "output_type": "execute_result"
    }
   ],
   "source": [
    "### Faltaría incluir centralidad random, normalizar el tamaño de la componente gigante por el numero de nodos\n",
    "# iteraciones=4\n",
    "# NumeroDeNodos=6\n"
   ]
  },
  {
   "cell_type": "code",
   "execution_count": 23,
   "metadata": {
    "collapsed": true
   },
   "outputs": [],
   "source": [
    "# Gj=G1\n",
    "# Gcc = sorted(nx.connected_component_subgraphs(Gj), key=len, reverse=True)\n",
    "# NnodosComponenteGigante=[]\n",
    "# NodosQueSaco=[]\n",
    "\n",
    "\n",
    "# NodosCG=[]\n",
    "# G=[]\n",
    "# for j in range(iteraciones):\n",
    "#     G.append(copy.deepcopy(Gcc[0]))\n",
    "# for j in range(iteraciones):\n",
    "#     N=0\n",
    "#     Nodos=list(G[j].nodes())\n",
    "#     random.shuffle(Nodos)\n",
    "#     NnodosCGrandom=[]\n",
    "#     for n in Nodos[:NumeroDeNodos-1]:\n",
    "#         if N<NumeroDeNodos-1:\n",
    "#             N+=1\n",
    "#             G[j].remove_node(n)\n",
    "#             NnodosCGrandom.append(Nnodos(G[j])/NumeroDeNodos)\n",
    "#             NodosQueSaco.append(N/NumeroDeNodos)\n",
    "#         print(type(NnodosCGrandom),len(NnodosCGrandom),j,N,n)\n",
    "    \n",
    "#     NodosCG.append(NnodosCGrandom) "
   ]
  },
  {
   "cell_type": "code",
   "execution_count": 24,
   "metadata": {
    "collapsed": true
   },
   "outputs": [],
   "source": [
    "# NodosCG[0]"
   ]
  },
  {
   "cell_type": "code",
   "execution_count": 25,
   "metadata": {
    "collapsed": true
   },
   "outputs": [],
   "source": [
    "# for i in range(NumeroDeNodos-1):\n",
    "#     lista=[]\n",
    "#     for k in range(iteraciones):\n",
    "#         lista.append(NodosCG[k][i])\n",
    "#     NnodosComponenteGigante.append(sum(lista)/iteraciones)\n",
    "        "
   ]
  },
  {
   "cell_type": "code",
   "execution_count": 26,
   "metadata": {
    "collapsed": true
   },
   "outputs": [],
   "source": [
    "# NnodosComponenteGigante"
   ]
  },
  {
   "cell_type": "code",
   "execution_count": null,
   "metadata": {
    "collapsed": true
   },
   "outputs": [],
   "source": []
  }
 ],
 "metadata": {
  "kernelspec": {
   "display_name": "Python 3",
   "language": "python",
   "name": "python3"
  },
  "language_info": {
   "codemirror_mode": {
    "name": "ipython",
    "version": 3
   },
   "file_extension": ".py",
   "mimetype": "text/x-python",
   "name": "python",
   "nbconvert_exporter": "python",
   "pygments_lexer": "ipython3",
   "version": "3.5.2"
  }
 },
 "nbformat": 4,
 "nbformat_minor": 2
}
