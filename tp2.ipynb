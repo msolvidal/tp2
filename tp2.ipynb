{
 "cells": [
  {
   "cell_type": "code",
   "execution_count": 14,
   "metadata": {
    "collapsed": true
   },
   "outputs": [],
   "source": [
    "def ldata(archive):\n",
    "    f=open(archive)\n",
    "    data=[]\n",
    "    for line in f:\n",
    "        line=line.strip()\n",
    "        col=line.split()\n",
    "        data.append(col)\n",
    "    return data\n",
    "def ldata2(archive):\n",
    "    f=open(archive)\n",
    "    data=[]\n",
    "    for line in f:\n",
    "        line=line.strip()\n",
    "        col=line.split()\n",
    "        data.append([col[0],col[1]])\n",
    "    return data\n"
   ]
  },
  {
   "cell_type": "code",
   "execution_count": 15,
   "metadata": {},
   "outputs": [],
   "source": [
    "\n",
    "\n",
    "import numpy as np\n",
    "import networkx as nx\n",
    "#import matplotlib.pyplot as plt\n",
    "import pandas as pd\n",
    "\n",
    "red_proteinas=ldata(\"tc02Data/yeast_AP-MS.txt\")\n",
    "red_binarias=ldata(\"tc02Data/yeast_Y2H.txt\")\n",
    "red_literatura=ldata(\"tc02Data/yeast_LIT.txt\")\n",
    "red_esencialHe=ldata(\"tc02Data/Essential_ORFs_paperHe.txt\")\n",
    "red_litreguly=ldata2(\"tc02Data/yeast_LIT_Reguly.txt\")\n",
    "\n"
   ]
  },
  {
   "cell_type": "code",
   "execution_count": 16,
   "metadata": {},
   "outputs": [],
   "source": [
    "G = nx.Graph()#directed\n",
    "G.add_edges_from(red_proteinas)\n",
    "G1 = nx.Graph()#directed\n",
    "G1.add_edges_from(red_binarias)\n",
    "G2 = nx.Graph()#directed\n",
    "G2.add_edges_from(red_literatura)\n",
    "G3 = nx.Graph()#directed\n",
    "G3.add_edges_from(red_litreguly)"
   ]
  },
  {
   "cell_type": "code",
   "execution_count": 23,
   "metadata": {
    "collapsed": true
   },
   "outputs": [],
   "source": [
    "def K(H):\n",
    "    k=sum(H.degree(k) for k in H)/H.number_of_nodes()\n",
    "    salida=[k]\n",
    "    return salida"
   ]
  },
  {
   "cell_type": "code",
   "execution_count": 42,
   "metadata": {},
   "outputs": [
    {
     "data": {
      "text/html": [
       "<div>\n",
       "<style>\n",
       "    .dataframe thead tr:only-child th {\n",
       "        text-align: right;\n",
       "    }\n",
       "\n",
       "    .dataframe thead th {\n",
       "        text-align: left;\n",
       "    }\n",
       "\n",
       "    .dataframe tbody tr th {\n",
       "        vertical-align: top;\n",
       "    }\n",
       "</style>\n",
       "<table border=\"1\" class=\"dataframe\">\n",
       "  <thead>\n",
       "    <tr style=\"text-align: right;\">\n",
       "      <th></th>\n",
       "      <th>Clustering promedio</th>\n",
       "      <th>Grado medio</th>\n",
       "      <th>Número de Enlaces</th>\n",
       "      <th>Número de Nodos</th>\n",
       "      <th>Red</th>\n",
       "    </tr>\n",
       "  </thead>\n",
       "  <tbody>\n",
       "    <tr>\n",
       "      <th>0</th>\n",
       "      <td>0.554636</td>\n",
       "      <td>[11.183723797780518]</td>\n",
       "      <td>9070</td>\n",
       "      <td>1622</td>\n",
       "      <td>Proteinas</td>\n",
       "    </tr>\n",
       "    <tr>\n",
       "      <th>1</th>\n",
       "      <td>0.046194</td>\n",
       "      <td>[2.9038652130822595]</td>\n",
       "      <td>2930</td>\n",
       "      <td>2018</td>\n",
       "      <td>Binarias</td>\n",
       "    </tr>\n",
       "    <tr>\n",
       "      <th>2</th>\n",
       "      <td>0.292492</td>\n",
       "      <td>[3.80859375]</td>\n",
       "      <td>2925</td>\n",
       "      <td>1536</td>\n",
       "      <td>Literatura</td>\n",
       "    </tr>\n",
       "    <tr>\n",
       "      <th>3</th>\n",
       "      <td>0.261134</td>\n",
       "      <td>[7.17145449047475]</td>\n",
       "      <td>11858</td>\n",
       "      <td>3307</td>\n",
       "      <td>Literatura Reg.</td>\n",
       "    </tr>\n",
       "  </tbody>\n",
       "</table>\n",
       "</div>"
      ],
      "text/plain": [
       "   Clustering promedio          Grado medio   Número de Enlaces  \\\n",
       "0             0.554636  [11.183723797780518]               9070   \n",
       "1             0.046194  [2.9038652130822595]               2930   \n",
       "2             0.292492          [3.80859375]               2925   \n",
       "3             0.261134    [7.17145449047475]              11858   \n",
       "\n",
       "   Número de Nodos              Red  \n",
       "0             1622        Proteinas  \n",
       "1             2018         Binarias  \n",
       "2             1536       Literatura  \n",
       "3             3307  Literatura Reg.  "
      ]
     },
     "execution_count": 42,
     "metadata": {},
     "output_type": "execute_result"
    }
   ],
   "source": [
    "data = pd.DataFrame({\"Red\":[\"Proteinas\",\"Binarias\",\"Literatura\", \"Literatura Reg.\"],\n",
    "                     \"Número de Nodos\":[G.number_of_nodes(),G1.number_of_nodes(),G2.number_of_nodes(), G3.number_of_nodes()],\n",
    "                     \"Número de Enlaces\":[G.number_of_edges(),G1.number_of_edges(),G2.number_of_edges(),G3.number_of_edges()],\n",
    "                 \"Grado medio \":[K(G),K(G1),K(G2),K(G3)],\n",
    "                 \"Clustering promedio\":[nx.average_clustering(G),nx.average_clustering(G1),nx.average_clustering(G2),nx.average_clustering(G3)] })\n",
    "#data\n"
   ]
  },
  {
   "cell_type": "code",
   "execution_count": 43,
   "metadata": {
    "collapsed": true
   },
   "outputs": [],
   "source": [
    "cols= ['Red', 'Número de Nodos', 'Número de Enlaces', 'Grado medio ','Clustering promedio']\n",
    "#cols = data.columns.tolist()"
   ]
  },
  {
   "cell_type": "code",
   "execution_count": 45,
   "metadata": {
    "scrolled": true
   },
   "outputs": [
    {
     "data": {
      "text/html": [
       "<div>\n",
       "<style>\n",
       "    .dataframe thead tr:only-child th {\n",
       "        text-align: right;\n",
       "    }\n",
       "\n",
       "    .dataframe thead th {\n",
       "        text-align: left;\n",
       "    }\n",
       "\n",
       "    .dataframe tbody tr th {\n",
       "        vertical-align: top;\n",
       "    }\n",
       "</style>\n",
       "<table border=\"1\" class=\"dataframe\">\n",
       "  <thead>\n",
       "    <tr style=\"text-align: right;\">\n",
       "      <th></th>\n",
       "      <th>Red</th>\n",
       "      <th>Número de Nodos</th>\n",
       "      <th>Número de Enlaces</th>\n",
       "      <th>Grado medio</th>\n",
       "      <th>Clustering promedio</th>\n",
       "    </tr>\n",
       "  </thead>\n",
       "  <tbody>\n",
       "    <tr>\n",
       "      <th>0</th>\n",
       "      <td>Proteinas</td>\n",
       "      <td>1622</td>\n",
       "      <td>9070</td>\n",
       "      <td>[11.183723797780518]</td>\n",
       "      <td>0.554636</td>\n",
       "    </tr>\n",
       "    <tr>\n",
       "      <th>1</th>\n",
       "      <td>Binarias</td>\n",
       "      <td>2018</td>\n",
       "      <td>2930</td>\n",
       "      <td>[2.9038652130822595]</td>\n",
       "      <td>0.046194</td>\n",
       "    </tr>\n",
       "    <tr>\n",
       "      <th>2</th>\n",
       "      <td>Literatura</td>\n",
       "      <td>1536</td>\n",
       "      <td>2925</td>\n",
       "      <td>[3.80859375]</td>\n",
       "      <td>0.292492</td>\n",
       "    </tr>\n",
       "    <tr>\n",
       "      <th>3</th>\n",
       "      <td>Literatura Reg.</td>\n",
       "      <td>3307</td>\n",
       "      <td>11858</td>\n",
       "      <td>[7.17145449047475]</td>\n",
       "      <td>0.261134</td>\n",
       "    </tr>\n",
       "  </tbody>\n",
       "</table>\n",
       "</div>"
      ],
      "text/plain": [
       "               Red  Número de Nodos  Número de Enlaces          Grado medio   \\\n",
       "0        Proteinas             1622               9070  [11.183723797780518]   \n",
       "1         Binarias             2018               2930  [2.9038652130822595]   \n",
       "2       Literatura             1536               2925          [3.80859375]   \n",
       "3  Literatura Reg.             3307              11858    [7.17145449047475]   \n",
       "\n",
       "   Clustering promedio  \n",
       "0             0.554636  \n",
       "1             0.046194  \n",
       "2             0.292492  \n",
       "3             0.261134  "
      ]
     },
     "execution_count": 45,
     "metadata": {},
     "output_type": "execute_result"
    }
   ],
   "source": [
    "data[cols]\n",
    "#data.ix[:, cols]\n"
   ]
  },
  {
   "cell_type": "code",
   "execution_count": 21,
   "metadata": {},
   "outputs": [
    {
     "data": {
      "text/plain": [
       "['YBR111W-A', 'YDR448W']"
      ]
     },
     "execution_count": 21,
     "metadata": {},
     "output_type": "execute_result"
    }
   ],
   "source": []
  },
  {
   "cell_type": "code",
   "execution_count": null,
   "metadata": {
    "collapsed": true
   },
   "outputs": [],
   "source": []
  }
 ],
 "metadata": {
  "kernelspec": {
   "display_name": "Python 3",
   "language": "python",
   "name": "python3"
  },
  "language_info": {
   "codemirror_mode": {
    "name": "ipython",
    "version": 3
   },
   "file_extension": ".py",
   "mimetype": "text/x-python",
   "name": "python",
   "nbconvert_exporter": "python",
   "pygments_lexer": "ipython3",
   "version": "3.5.2"
  }
 },
 "nbformat": 4,
 "nbformat_minor": 2
}
